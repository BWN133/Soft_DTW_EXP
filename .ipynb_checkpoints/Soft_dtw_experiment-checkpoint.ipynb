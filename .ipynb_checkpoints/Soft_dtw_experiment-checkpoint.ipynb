{
 "cells": [
  {
   "cell_type": "code",
   "execution_count": 2,
   "id": "7f9ed8f3",
   "metadata": {},
   "outputs": [],
   "source": [
    "from sdtw import SoftDTW\n",
    "from sdtw.distance import SquaredEuclidean\n",
    "import numpy as np"
   ]
  },
  {
   "cell_type": "markdown",
   "id": "f224fec3",
   "metadata": {},
   "source": [
    "## soft-dtw and Experiment\n"
   ]
  },
  {
   "cell_type": "code",
   "execution_count": 3,
   "id": "5cfd8026",
   "metadata": {},
   "outputs": [],
   "source": [
    "def calc_sdtw(dm):\n",
    "    sdtw = SoftDTW(dm, gamma=1.0)\n",
    "    # V is the of block R(m,n) where R is the soft-dtw matrix calculated using the Distance matrix \n",
    "    V = sdtw.compute()\n",
    "    # E is the gradient of R i.e the soft-dtw matrix based on D i.e distance matrix\n",
    "    E = sdtw.grad()\n",
    "    # jocobian product is the product of jcobian matrix of dm regarding input X (target trajectory that will be manipulate)\n",
    "    # and E, so we know that how each element in input X should be vaired to make the output V smaller\n",
    "    Z = dm.jacobian_product(E)\n",
    "    \n",
    "    return V, E, Z"
   ]
  },
  {
   "cell_type": "code",
   "execution_count": null,
   "id": "ddf26374",
   "metadata": {},
   "outputs": [],
   "source": []
  },
  {
   "cell_type": "markdown",
   "id": "a2b1a795",
   "metadata": {},
   "source": [
    "## Temperal regularization of soft-dtw\n",
    "Temperal regularization are suppose to help back tracking in soft-dtw to obtain untrivial result. Can not test on yet because the encoder in the essay are not avaliable and should be build on, here is the discription:\n",
    "\n",
    "We use ResNet-50 [25] as our backbone network and ex- tract features from the output of the Conv4c layer. The ex- tracted features have dimensions of 14×14×1024. We then stack k context frame features along the temporal dimen- sion for each frame. Next, the combined features are passed through two 3D convolutional layers for aggregating tem- poral information. It is then followed by a 3D global max pooling layer, two fully-connected layers, and a linear pro- jection layer to output embedding frames, with each having 128 dimensions. We resize input video frames to 224 × 224 before feeding to our encoder network."
   ]
  },
  {
   "cell_type": "code",
   "execution_count": null,
   "id": "52dbb39f",
   "metadata": {},
   "outputs": [],
   "source": [
    "# TODO: Need auto encoder \n",
    "# time regularization code that we can not test on yet... we\n",
    "def calc_SSM(a,b):\n",
    "    result = np.zeros((a.shape[0],b.shape[0]))\n",
    "    for i in range(a.shape[0]):\n",
    "        current = a[i]\n",
    "        for j in range(b.shape[0]):\n",
    "            result[i][j] = np.square(np.linalg.norm(current - b[j]))\n",
    "    return result\n",
    "\n",
    "def calc_idm(a,b, sigma= 1, romita = 0):\n",
    "    nresult = 0\n",
    "    result = np.zeros((a.shape[0],b.shape[0]))\n",
    "    for i in range(a.shape[0]):\n",
    "        current = a[i]\n",
    "        for j in range(b.shape[0]):\n",
    "            yij = 1 if np.absolute(i - j) > sigma else 0\n",
    "            dx = np.square(np.linalg.norm(current - b[j]))\n",
    "            current_idm = (i-j)*(i-j) + 1\n",
    "            result[i][j] = yij * current_idm * np.maximum(0,romita - dx) + (1 - yij)*current_idm * dx\n",
    "            nresult += result[i][j]\n",
    "    return result, nresult\n",
    "\n",
    "\n",
    "\n",
    "\n",
    "\n",
    "X = np.array([[1,2,3,4], [4,5,6,9],[7,8,9,15]])\n",
    "# parametric curve representation\n",
    "1, 2, 3, 4, 5\n",
    "5\n",
    "6\n",
    "7\n",
    "8\n",
    "Y = np.array([[1,2,3,45], [4,5,6,78],[7,8,9,66], [9,10,15,25]])\n",
    "a, am = cost_pipeline(X,Y)\n",
    "print(a)\n",
    "print(am)\n",
    "\n",
    "\n",
    "\n",
    "# sdtw = SoftDTW(D, gamma=1.0)\n",
    "# # soft-DTW discrepancy, approaches DTW as gamma -> 0\n",
    "# value = sdtw.compute()\n",
    "# # gradient w.r.t. D, shape = [m, n], which is also the expected alignment matrix\n",
    "# E = sdtw.grad()\n",
    "# # gradient w.r.t. X, shape = [m, d]\n",
    "# # G = D.jacobian_product(E)\n",
    "# print(E)\n",
    "# # print(G)\n"
   ]
  }
 ],
 "metadata": {
  "kernelspec": {
   "display_name": "Python 3 (ipykernel)",
   "language": "python",
   "name": "python3"
  },
  "language_info": {
   "codemirror_mode": {
    "name": "ipython",
    "version": 3
   },
   "file_extension": ".py",
   "mimetype": "text/x-python",
   "name": "python",
   "nbconvert_exporter": "python",
   "pygments_lexer": "ipython3",
   "version": "3.10.5"
  }
 },
 "nbformat": 4,
 "nbformat_minor": 5
}
